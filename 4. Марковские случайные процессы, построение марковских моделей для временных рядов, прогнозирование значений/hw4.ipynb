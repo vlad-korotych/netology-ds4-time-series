{
 "cells": [
  {
   "cell_type": "code",
   "execution_count": 78,
   "metadata": {},
   "outputs": [],
   "source": [
    "import numpy as np\n",
    "import re\n",
    "import matplotlib.pyplot as plt\n",
    "import seaborn as sns\n",
    "import pandas as pd\n",
    "%matplotlib inline\n",
    "sns.set()"
   ]
  },
  {
   "cell_type": "code",
   "execution_count": 72,
   "metadata": {},
   "outputs": [],
   "source": [
    "regex = re.compile(\"[а-я]+\")\n",
    "\n",
    "def words_only(text, regex=regex):\n",
    "    try:\n",
    "        return \" \".join(regex.findall(text))\n",
    "    except:\n",
    "        return \"\""
   ]
  },
  {
   "cell_type": "markdown",
   "metadata": {},
   "source": [
    "Загружаем и очищаем все 4 тома"
   ]
  },
  {
   "cell_type": "code",
   "execution_count": 73,
   "metadata": {},
   "outputs": [],
   "source": [
    "text = \"\"\n",
    "for i in range(1, 5):\n",
    "    with open(f'war_and_peace/tom_{i}.txt', 'r') as f:\n",
    "        tom = f.read().lower()\n",
    "    \n",
    "    text = text + words_only(tom) + \" \""
   ]
  },
  {
   "cell_type": "markdown",
   "metadata": {},
   "source": [
    "Вычисляем матрицу переходных вероятностей."
   ]
  },
  {
   "cell_type": "code",
   "execution_count": 42,
   "metadata": {},
   "outputs": [],
   "source": [
    "RUSSIAN = 'абвгдежзийклмнопрстуфхцчшщъыьэюя '\n",
    "POS_RU = {l: i for i, l in enumerate(RUSSIAN)}"
   ]
  },
  {
   "cell_type": "code",
   "execution_count": 43,
   "metadata": {},
   "outputs": [],
   "source": [
    "probabilities_ru = np.zeros((len(RUSSIAN), len(RUSSIAN)))"
   ]
  },
  {
   "cell_type": "code",
   "execution_count": 44,
   "metadata": {},
   "outputs": [],
   "source": [
    "for cp, cn in zip(text[:-1], text[1:]):\n",
    "    probabilities_ru[POS_RU[cp], POS_RU[cn]] += 1"
   ]
  },
  {
   "cell_type": "code",
   "execution_count": 45,
   "metadata": {},
   "outputs": [],
   "source": [
    "probabilities_ru = (probabilities_ru / probabilities_ru.sum(axis=1)[:, None])"
   ]
  },
  {
   "cell_type": "code",
   "execution_count": 46,
   "metadata": {},
   "outputs": [],
   "source": [
    "df = pd.DataFrame(probabilities_ru, index=(c for c in RUSSIAN), columns=(c for c in RUSSIAN))"
   ]
  },
  {
   "cell_type": "markdown",
   "metadata": {},
   "source": [
    "Строим heatmap"
   ]
  },
  {
   "cell_type": "code",
   "execution_count": 52,
   "metadata": {},
   "outputs": [
    {
     "data": {
      "image/png": "[encoded data removed]",
      "text/plain": [
       "<Figure size 1440x720 with 2 Axes>"
      ]
     },
     "metadata": {
      "needs_background": "light"
     },
     "output_type": "display_data"
    }
   ],
   "source": [
    "plt.figure(figsize=(20,10))\n",
    "sns.heatmap(df, xticklabels=list(RUSSIAN), yticklabels=list(RUSSIAN))\n",
    "plt.show()"
   ]
  },
  {
   "cell_type": "markdown",
   "metadata": {},
   "source": [
    "Почему-то не рендерится легенда..."
   ]
  },
  {
   "cell_type": "code",
   "execution_count": null,
   "metadata": {},
   "outputs": [],
   "source": []
  },
  {
   "cell_type": "markdown",
   "metadata": {},
   "source": [
    "Посчитаем вероятность встретить строку из 4-х символов, которая начинается п, а кончается на р"
   ]
  },
  {
   "cell_type": "code",
   "execution_count": 61,
   "metadata": {},
   "outputs": [],
   "source": [
    "def get_letter_and_prob(prev_letter=None, alfabet=RUSSIAN, probabilities=probabilities_ru, POS=POS_RU):\n",
    "    if prev_letter is None:\n",
    "        for s in list(alfabet):\n",
    "            yield s, probabilities[POS[' '], POS[s]]\n",
    "    else:\n",
    "        for s in list(alfabet):\n",
    "            yield s, probabilities[POS[prev_letter], POS[s]]"
   ]
  },
  {
   "cell_type": "code",
   "execution_count": 67,
   "metadata": {},
   "outputs": [],
   "source": [
    "words = []\n",
    "s1 = 'п'\n",
    "s4 = 'р'\n",
    "p1 = 1./len(RUSSIAN)\n",
    "for s2, p2 in get_letter_and_prob(s1):\n",
    "    for s3, p3 in get_letter_and_prob(s2):\n",
    "        p4 = probabilities_ru[POS_RU[s3], POS_RU[s4]]\n",
    "        words.append((s1 + s2 + s3 + s4, p1 * p2 * p3 * p4))"
   ]
  },
  {
   "cell_type": "code",
   "execution_count": 68,
   "metadata": {},
   "outputs": [
    {
     "data": {
      "text/plain": [
       "[('прер', 0.00012335774136099814),\n",
       " ('прор', 9.365605562565728e-05),\n",
       " ('прар', 7.633171199780586e-05),\n",
       " ('по р', 6.769704247051618e-05),\n",
       " ('потр', 4.18492411696942e-05),\n",
       " ('попр', 4.1027899749022824e-05),\n",
       " ('погр', 3.945928989911442e-05),\n",
       " ('подр', 3.918739476068601e-05),\n",
       " ('побр', 3.003295011537867e-05),\n",
       " ('поер', 2.6507413545261443e-05),\n",
       " ('пе р', 2.063622671537994e-05),\n",
       " ('пь р', 1.7392765252158383e-05),\n",
       " ('прур', 1.5698946906936143e-05),\n",
       " ('повр', 1.4618331706949343e-05),\n",
       " ('пепр', 1.2102500324004539e-05),\n",
       " ('пегр', 1.1397497058526789e-05),\n",
       " ('прир', 1.0008821408897551e-05),\n",
       " ('покр', 9.999234295523943e-06),\n",
       " ('па р', 9.695353027294278e-06),\n",
       " ('пофр', 9.201387447410195e-06)]"
      ]
     },
     "execution_count": 68,
     "metadata": {},
     "output_type": "execute_result"
    }
   ],
   "source": [
    "words = sorted(words, key = lambda w: w[1], reverse=True)\n",
    "words[:20]"
   ]
  },
  {
   "cell_type": "markdown",
   "metadata": {},
   "source": [
    "Суммируем все вероятности и получаем итоговую вероятность:"
   ]
  },
  {
   "cell_type": "code",
   "execution_count": 69,
   "metadata": {},
   "outputs": [
    {
     "data": {
      "text/plain": [
       "0.0009784986358971572"
      ]
     },
     "execution_count": 69,
     "metadata": {},
     "output_type": "execute_result"
    }
   ],
   "source": [
    "prob = sum([w[1] for w in words])\n",
    "prob"
   ]
  },
  {
   "cell_type": "markdown",
   "metadata": {},
   "source": [
    "Напишем функцию, генерирующую слово заданной длинны"
   ]
  },
  {
   "cell_type": "code",
   "execution_count": 103,
   "metadata": {},
   "outputs": [],
   "source": [
    "def gen_word(start='б', length=8):\n",
    "    word = start\n",
    "    prev_letter = start\n",
    "    for i in range(length-1):\n",
    "        while True: # Альтернатива циклу - подсовывать алфавит без пробела и пересчитать вероятности\n",
    "            next_letter = np.random.choice(list(RUSSIAN), p=probabilities_ru[POS_RU[prev_letter]])\n",
    "            if next_letter != ' ': # пробел внутри слова - весьма странно\n",
    "                word += next_letter\n",
    "                prev_letter = next_letter\n",
    "                break\n",
    "    \n",
    "    # последняя буква должна выбираться с учетом пробела после слова\n",
    "    probas = []\n",
    "    letters = []\n",
    "    for l in RUSSIAN[:-1]:\n",
    "        proba = probabilities_ru[POS_RU[prev_letter], POS_RU[l]] * probabilities_ru[POS_RU[l], POS_RU[' ']]\n",
    "        if proba > 0:\n",
    "            probas.append(proba)\n",
    "            letters.append(l)\n",
    "    \n",
    "    probas = probas / sum(probas)\n",
    "    word += np.random.choice(letters, p=probas)\n",
    "    \n",
    "    return word"
   ]
  },
  {
   "cell_type": "code",
   "execution_count": 108,
   "metadata": {},
   "outputs": [
    {
     "data": {
      "text/plain": [
       "['бойлохори',\n",
       " 'босятвеха',\n",
       " 'бридуласл',\n",
       " 'бянубраше',\n",
       " 'бялсемали',\n",
       " 'быймихоил',\n",
       " 'быйспобра',\n",
       " 'бысоньннь',\n",
       " 'бовсьеовы',\n",
       " 'бодечтьни',\n",
       " 'быллькрам',\n",
       " 'бобройскл',\n",
       " 'бытетрета',\n",
       " 'бывыструз',\n",
       " 'будойсьих',\n",
       " 'бмолоянча',\n",
       " 'блойтоскр',\n",
       " 'бемеружни',\n",
       " 'бысялакая',\n",
       " 'бедогдера']"
      ]
     },
     "execution_count": 108,
     "metadata": {},
     "output_type": "execute_result"
    }
   ],
   "source": [
    "[gen_word() for _ in range(20)]"
   ]
  },
  {
   "cell_type": "markdown",
   "metadata": {},
   "source": [
    "Выбрать ряд с datamarket.com не получается - сайт не открывается"
   ]
  },
  {
   "cell_type": "code",
   "execution_count": null,
   "metadata": {},
   "outputs": [],
   "source": []
  }
 ],
 "metadata": {
  "kernelspec": {
   "display_name": "Python 3",
   "language": "python",
   "name": "python3"
  },
  "language_info": {
   "codemirror_mode": {
    "name": "ipython",
    "version": 3
   },
   "file_extension": ".py",
   "mimetype": "text/x-python",
   "name": "python",
   "nbconvert_exporter": "python",
   "pygments_lexer": "ipython3",
   "version": "3.6.7"
  }
 },
 "nbformat": 4,
 "nbformat_minor": 2
}
